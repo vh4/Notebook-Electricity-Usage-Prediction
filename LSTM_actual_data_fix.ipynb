{
 "cells": [
  {
   "cell_type": "markdown",
   "id": "Rcx3DofbND6E",
   "metadata": {
    "id": "Rcx3DofbND6E"
   },
   "source": [
    "Here, the problem of using electrical energy in households will be resolved, where a deep learning model will be made to predict the use of electrical energy every 1 hour for a day and find out how long the remaining electric pulses will run out."
   ]
  },
  {
   "cell_type": "markdown",
   "id": "ZIUj5_AiT3OS",
   "metadata": {
    "id": "ZIUj5_AiT3OS"
   },
   "source": [
    "### **The following is a description and explanation of the dataset**\n",
    "\n",
    "- In a dataset, there is data on electricity consumption, namely train data and testing data.\n",
    "- train data: data that will be used for deep learning model training.\n",
    "- test data: data to be used for testing and evaluating the model.\n",
    "- **actual id**: contains column data regarding the actual data id which is unique\n",
    "- **pemakaian_listrik**: contains column data of the user's electricity consumption every 1 hour.\n",
    "- **tanggal**: contains column data from the date of use of electricity users\n",
    "- **nomorserial**: contains the serial number value used to identify the smartmeter user device.\n"
   ]
  },
  {
   "cell_type": "markdown",
   "id": "WidYorT6YlNf",
   "metadata": {
    "id": "WidYorT6YlNf"
   },
   "source": [
    "# **Steps for Making Deep Learning Models**"
   ]
  },
  {
   "cell_type": "markdown",
   "id": "9Euj0X9xZEBI",
   "metadata": {
    "id": "9Euj0X9xZEBI"
   },
   "source": [
    "## **1. Pre-processing Data**"
   ]
  },
  {
   "cell_type": "markdown",
   "id": "JSaTGqjsqGkj",
   "metadata": {
    "id": "JSaTGqjsqGkj"
   },
   "source": [
    "**- Data train and Data test** : the data is obtained from taking pictures and calculating electricity consumption manually by subtracting the remaining electric pulses from the previous time and the current time. the data amounted to 522 data collected."
   ]
  },
  {
   "cell_type": "code",
   "execution_count": 1,
   "id": "b7759c34",
   "metadata": {
    "id": "b7759c34"
   },
   "outputs": [],
   "source": [
    "#import library\n",
    "\n",
    "import numpy as np #import numpy library for manipulation array and matrics\n",
    "import pandas as pd #import pandas library for maniputation data like table and columns (Dataframe).\n",
    "import matplotlib.pyplot as plt #to plotting image graph\n",
    "plt.style.use('classic')\n",
    "\n",
    "%matplotlib inline\n",
    "\n",
    "import time #importing delay\n",
    "\n",
    "#importing tensorflow keras model LSTM\n",
    "\n",
    "import tensorflow as tf\n",
    "from keras import Sequential\n",
    "from keras.layers import LSTM\n",
    "from keras.layers import Dense, Dropout\n",
    "from keras.models import load_model\n",
    "from sklearn.metrics import mean_squared_error as mse\n",
    "from sklearn.metrics import mean_absolute_percentage_error as mape\n",
    "import seaborn as sns\n"
   ]
  },
  {
   "cell_type": "code",
   "execution_count": null,
   "id": "GR6gZvc6n2Kz",
   "metadata": {
    "colab": {
     "base_uri": "https://localhost:8080/"
    },
    "id": "GR6gZvc6n2Kz",
    "outputId": "c57bf1ae-9778-4eae-c195-712b4acaac46"
   },
   "outputs": [],
   "source": [
    "#mount google drive\n",
    "\n",
    "from google.colab import drive\n",
    "drive.mount('/content/drive')"
   ]
  },
  {
   "cell_type": "code",
   "execution_count": 3,
   "id": "2CIE8sabopHp",
   "metadata": {
    "id": "2CIE8sabopHp"
   },
   "outputs": [],
   "source": [
    "#read data into dataframe on data\n",
    "\n",
    "df_data = pd.read_excel('DATA/pemakaian listrik.xlsx')"
   ]
  },
  {
   "cell_type": "code",
   "execution_count": 4,
   "id": "fJzPRm6Qv8s6",
   "metadata": {
    "colab": {
     "base_uri": "https://localhost:8080/",
     "height": 206
    },
    "id": "fJzPRm6Qv8s6",
    "outputId": "6424828e-912c-4c38-ba1c-9a592a714035"
   },
   "outputs": [
    {
     "data": {
      "text/html": [
       "<div>\n",
       "<style scoped>\n",
       "    .dataframe tbody tr th:only-of-type {\n",
       "        vertical-align: middle;\n",
       "    }\n",
       "\n",
       "    .dataframe tbody tr th {\n",
       "        vertical-align: top;\n",
       "    }\n",
       "\n",
       "    .dataframe thead th {\n",
       "        text-align: right;\n",
       "    }\n",
       "</style>\n",
       "<table border=\"1\" class=\"dataframe\">\n",
       "  <thead>\n",
       "    <tr style=\"text-align: right;\">\n",
       "      <th></th>\n",
       "      <th>tanggal</th>\n",
       "      <th>pulsa_listrik</th>\n",
       "      <th>pemakaian_listrik</th>\n",
       "    </tr>\n",
       "  </thead>\n",
       "  <tbody>\n",
       "    <tr>\n",
       "      <th>0</th>\n",
       "      <td>2022-01-29   20:02:34</td>\n",
       "      <td>163.04</td>\n",
       "      <td>NaN</td>\n",
       "    </tr>\n",
       "    <tr>\n",
       "      <th>1</th>\n",
       "      <td>2022-01-29   21:02:43</td>\n",
       "      <td>162.37</td>\n",
       "      <td>0.67</td>\n",
       "    </tr>\n",
       "    <tr>\n",
       "      <th>2</th>\n",
       "      <td>2022-01-29   22:02:52</td>\n",
       "      <td>161.89</td>\n",
       "      <td>0.48</td>\n",
       "    </tr>\n",
       "    <tr>\n",
       "      <th>3</th>\n",
       "      <td>2022-01-29   23:03:01</td>\n",
       "      <td>161.42</td>\n",
       "      <td>0.47</td>\n",
       "    </tr>\n",
       "    <tr>\n",
       "      <th>4</th>\n",
       "      <td>2022-01-30   00:03:10</td>\n",
       "      <td>160.96</td>\n",
       "      <td>0.46</td>\n",
       "    </tr>\n",
       "  </tbody>\n",
       "</table>\n",
       "</div>"
      ],
      "text/plain": [
       "                 tanggal  pulsa_listrik  pemakaian_listrik\n",
       "0  2022-01-29   20:02:34         163.04                NaN\n",
       "1  2022-01-29   21:02:43         162.37               0.67\n",
       "2  2022-01-29   22:02:52         161.89               0.48\n",
       "3  2022-01-29   23:03:01         161.42               0.47\n",
       "4  2022-01-30   00:03:10         160.96               0.46"
      ]
     },
     "execution_count": 4,
     "metadata": {},
     "output_type": "execute_result"
    }
   ],
   "source": [
    "#show dataframe with 5 data from initial data\n",
    "\n",
    "df_data.head(5)"
   ]
  },
  {
   "cell_type": "markdown",
   "id": "YZxOdeK4pJv6",
   "metadata": {
    "id": "YZxOdeK4pJv6"
   },
   "source": [
    "### **Review and Visualization** \n",
    "**What's the goal Review Data?**\n",
    "\n",
    "- Reviewing the Data Used to get a complete picture of the data (review gambaran utuh datanya seperti apa).\n",
    "\n",
    "  Such as Descriptive Value => Mean, Median, Q1, Q2, Q3, outliers and Others."
   ]
  },
  {
   "cell_type": "code",
   "execution_count": 5,
   "id": "fhZKAumOzWXO",
   "metadata": {
    "id": "fhZKAumOzWXO"
   },
   "outputs": [],
   "source": [
    "#retrieve the data needed in analyzing the data.\n",
    "#data required is only data_electricity_use and date\n",
    "\n",
    "data_deskripsi = df_data[['pemakaian_listrik']]"
   ]
  },
  {
   "cell_type": "code",
   "execution_count": 6,
   "id": "8D2ERlOJ4iWs",
   "metadata": {
    "colab": {
     "base_uri": "https://localhost:8080/"
    },
    "id": "8D2ERlOJ4iWs",
    "outputId": "7b258bc5-9df3-4638-8cfc-f2bb83de52e2"
   },
   "outputs": [
    {
     "data": {
      "text/plain": [
       "pemakaian_listrik    float64\n",
       "dtype: object"
      ]
     },
     "execution_count": 6,
     "metadata": {},
     "output_type": "execute_result"
    }
   ],
   "source": [
    "#see the data type in the training data column\n",
    "\n",
    "data_deskripsi.dtypes"
   ]
  },
  {
   "cell_type": "code",
   "execution_count": 7,
   "id": "30Y_pQ1ax5Vn",
   "metadata": {
    "colab": {
     "base_uri": "https://localhost:8080/"
    },
    "id": "30Y_pQ1ax5Vn",
    "outputId": "2a759173-9db0-458a-f9dd-c1c76c4f7f29"
   },
   "outputs": [
    {
     "data": {
      "text/plain": [
       "pemakaian_listrik    8\n",
       "dtype: int64"
      ]
     },
     "execution_count": 7,
     "metadata": {},
     "output_type": "execute_result"
    }
   ],
   "source": [
    "#check data missing value\n",
    "\n",
    "data_deskripsi.isna().sum()"
   ]
  },
  {
   "cell_type": "code",
   "execution_count": 8,
   "id": "wLHh-KNyzqBC",
   "metadata": {
    "colab": {
     "base_uri": "https://localhost:8080/",
     "height": 300
    },
    "id": "wLHh-KNyzqBC",
    "outputId": "9c03776e-cb83-46d4-83cd-19b0e39a9493"
   },
   "outputs": [
    {
     "data": {
      "text/html": [
       "<div>\n",
       "<style scoped>\n",
       "    .dataframe tbody tr th:only-of-type {\n",
       "        vertical-align: middle;\n",
       "    }\n",
       "\n",
       "    .dataframe tbody tr th {\n",
       "        vertical-align: top;\n",
       "    }\n",
       "\n",
       "    .dataframe thead th {\n",
       "        text-align: right;\n",
       "    }\n",
       "</style>\n",
       "<table border=\"1\" class=\"dataframe\">\n",
       "  <thead>\n",
       "    <tr style=\"text-align: right;\">\n",
       "      <th></th>\n",
       "      <th>pemakaian_listrik</th>\n",
       "    </tr>\n",
       "  </thead>\n",
       "  <tbody>\n",
       "    <tr>\n",
       "      <th>count</th>\n",
       "      <td>514.000000</td>\n",
       "    </tr>\n",
       "    <tr>\n",
       "      <th>mean</th>\n",
       "      <td>0.424183</td>\n",
       "    </tr>\n",
       "    <tr>\n",
       "      <th>std</th>\n",
       "      <td>0.142045</td>\n",
       "    </tr>\n",
       "    <tr>\n",
       "      <th>min</th>\n",
       "      <td>0.150000</td>\n",
       "    </tr>\n",
       "    <tr>\n",
       "      <th>25%</th>\n",
       "      <td>0.320000</td>\n",
       "    </tr>\n",
       "    <tr>\n",
       "      <th>50%</th>\n",
       "      <td>0.410000</td>\n",
       "    </tr>\n",
       "    <tr>\n",
       "      <th>75%</th>\n",
       "      <td>0.500000</td>\n",
       "    </tr>\n",
       "    <tr>\n",
       "      <th>max</th>\n",
       "      <td>1.040000</td>\n",
       "    </tr>\n",
       "  </tbody>\n",
       "</table>\n",
       "</div>"
      ],
      "text/plain": [
       "       pemakaian_listrik\n",
       "count         514.000000\n",
       "mean            0.424183\n",
       "std             0.142045\n",
       "min             0.150000\n",
       "25%             0.320000\n",
       "50%             0.410000\n",
       "75%             0.500000\n",
       "max             1.040000"
      ]
     },
     "execution_count": 8,
     "metadata": {},
     "output_type": "execute_result"
    }
   ],
   "source": [
    "#see statistical descriptions on data \n",
    "\n",
    "data_deskripsi.describe()"
   ]
  },
  {
   "cell_type": "markdown",
   "id": "SIQNrWwV0mfp",
   "metadata": {
    "id": "SIQNrWwV0mfp"
   },
   "source": [
    "**data_deskripsi**\n",
    "\n",
    "- total data = 514 (only the existing data is taken. NaN is ignored)\n",
    "\n",
    "- average electricity usage is around 0.42\n",
    "\n",
    "- the minimum value of all data is 0.15\n",
    "\n",
    "- max value of all data is 1.04\n",
    "\n",
    "- the standard deviation (data distribution) is 0.140951"
   ]
  },
  {
   "cell_type": "code",
   "execution_count": 9,
   "id": "pZ5x59Tw1OLP",
   "metadata": {
    "colab": {
     "base_uri": "https://localhost:8080/"
    },
    "id": "pZ5x59Tw1OLP",
    "outputId": "8c5e8e54-6a3d-4466-ea05-540d081e03a2"
   },
   "outputs": [
    {
     "name": "stdout",
     "output_type": "stream",
     "text": [
      "(522, 1)\n",
      "(522, 1)\n"
     ]
    }
   ],
   "source": [
    "#see the number of data columns and rows in data deskripsi\n",
    "\n",
    "print(data_deskripsi.shape)\n",
    "print(data_deskripsi.shape)"
   ]
  },
  {
   "cell_type": "code",
   "execution_count": 10,
   "id": "lMRajm9Z13dT",
   "metadata": {
    "colab": {
     "base_uri": "https://localhost:8080/",
     "height": 289
    },
    "id": "lMRajm9Z13dT",
    "outputId": "4d3a9783-6b92-47a1-b637-487ba703455b"
   },
   "outputs": [
    {
     "data": {
      "image/png": "[encoded data removed]",
      "text/plain": [
       "<Figure size 432x288 with 1 Axes>"
      ]
     },
     "metadata": {
      "needs_background": "light"
     },
     "output_type": "display_data"
    }
   ],
   "source": [
    "#Seeing the distribution of electricity consumption by using a histplot (graph histogram) to visualize the distribution of the data.\n",
    "\n",
    "#show histogram visualization on train data\n",
    "sns.histplot(data_deskripsi['pemakaian_listrik'], kde=True, stat=\"density\", linewidth=0);"
   ]
  },
  {
   "cell_type": "markdown",
   "id": "nJ8zXUS2nJ7m",
   "metadata": {
    "id": "nJ8zXUS2nJ7m"
   },
   "source": [
    "- standar deviation   = standard deviation is a statistical value used to determine how close the data from a sample is to\n",
    "- normal distribution = The normal distribution is a probability function that shows the distribution or spread of a variable."
   ]
  },
  {
   "cell_type": "code",
   "execution_count": 11,
   "id": "uO3_rnAy5jEW",
   "metadata": {
    "colab": {
     "base_uri": "https://localhost:8080/"
    },
    "id": "uO3_rnAy5jEW",
    "outputId": "3b869dbd-b3b3-4097-909f-a22780f5582f"
   },
   "outputs": [
    {
     "name": "stdout",
     "output_type": "stream",
     "text": [
      "0.18\n"
     ]
    }
   ],
   "source": [
    "#Show IQR (Jangkauan Interquartile) on data_deskripsi\n",
    "\n",
    "q1= data_deskripsi['pemakaian_listrik'].quantile(0.25)\n",
    "q3 = data_deskripsi['pemakaian_listrik'].quantile(0.75)\n",
    "iqr = round(q3 - q1, 2)\n",
    "\n",
    "print(iqr)\n"
   ]
  },
  {
   "cell_type": "code",
   "execution_count": 12,
   "id": "JrAGCueX7Mgm",
   "metadata": {
    "id": "JrAGCueX7Mgm"
   },
   "outputs": [],
   "source": [
    "#Show data_deskripsi outliers data with tukey's fences (1)\n",
    "\n",
    "#handle warning\n",
    "import warnings\n",
    "warnings.filterwarnings('ignore')\n",
    "\n",
    "#outlier filter (pencilan) on data \n",
    "\n",
    "lower_bound = q1 - 1.5 * iqr\n",
    "upper_bound = q3 + 1.5 * iqr"
   ]
  },
  {
   "cell_type": "code",
   "execution_count": 13,
   "id": "tBAlcI807h3c",
   "metadata": {
    "colab": {
     "base_uri": "https://localhost:8080/"
    },
    "id": "tBAlcI807h3c",
    "outputId": "4d3c7bd9-6b59-4791-d871-b9a4be2be425"
   },
   "outputs": [
    {
     "name": "stdout",
     "output_type": "stream",
     "text": [
      "the data of outliers : \n",
      "     pemakaian_listrik\n",
      "23                0.79\n",
      "95                0.82\n",
      "119               1.04\n",
      "143               0.78\n",
      "144               0.88\n",
      "167               0.80\n",
      "262               0.90\n",
      "288               0.78\n",
      "310               0.85\n",
      "334               0.81\n",
      "382               0.82\n",
      "384               0.80\n",
      "406               0.78\n",
      "453               0.80\n",
      "474               0.87\n"
     ]
    }
   ],
   "source": [
    "print('the data of outliers : ')\n",
    "print(data_deskripsi[(data_deskripsi['pemakaian_listrik'] < lower_bound) | (data_deskripsi['pemakaian_listrik'] > upper_bound)])"
   ]
  },
  {
   "cell_type": "markdown",
   "id": "RApwLQN--ZxB",
   "metadata": {
    "id": "RApwLQN--ZxB"
   },
   "source": [
    "- From data_deskripsi have 15 Data Outlier\n",
    "\n",
    "**Remember!**\n",
    "\n",
    "- Each algorithm has different characteristics. such as the LSTM Algorithm, RNN based on Deep Learning can be used to overcome such outlier data without having to eliminate the data as in statistical rules."
   ]
  },
  {
   "cell_type": "code",
   "execution_count": 14,
   "id": "crIFJTKtAyVq",
   "metadata": {
    "colab": {
     "base_uri": "https://localhost:8080/",
     "height": 300
    },
    "id": "crIFJTKtAyVq",
    "outputId": "db92ea2a-a243-4631-e0d2-dde58d4e55ba"
   },
   "outputs": [
    {
     "data": {
      "text/plain": [
       "Text(0.5, 1.0, 'visualization boxplot for see the data quartile, median')"
      ]
     },
     "execution_count": 14,
     "metadata": {},
     "output_type": "execute_result"
    },
    {
     "data": {
      "image/png": "[encoded data removed]",
      "text/plain": [
       "<Figure size 720x288 with 1 Axes>"
      ]
     },
     "metadata": {
      "needs_background": "light"
     },
     "output_type": "display_data"
    }
   ],
   "source": [
    "#visualization Boxpot Graph to see multiple quartile values ​​and also to see outliers in data_deskripsi\n",
    "\n",
    "#create plot for chart boxplot\n",
    "\n",
    "fig = plt.figure(figsize =(10, 4)) \n",
    "ax = fig.add_subplot(111)\n",
    "\n",
    "# Make axis dan change data NaN to 0 .\n",
    "\n",
    "bp = ax.boxplot(data_deskripsi['pemakaian_listrik'].fillna(0), patch_artist = True,\n",
    "                notch ='True', vert = 0)\n",
    "    \n",
    "for median in bp['medians']:\n",
    "    median.set(color ='#FF00FF',\n",
    "               linewidth = 8)\n",
    "ax.set_yticklabels(['pemakaian listrik'])\n",
    "# add title\n",
    "plt.title(\"visualization boxplot for see the data quartile, median\")"
   ]
  },
  {
   "cell_type": "markdown",
   "id": "p5tvku04vN4e",
   "metadata": {
    "id": "p5tvku04vN4e"
   },
   "source": [
    "### **Pre-processing**\n",
    "\n",
    "**What is Data pre-processing?**\n",
    "- Data Preparation : Memperbaiki / Improve Quality of the data for Model so that the performance of the data model is better (make data not ready will be ready)\n"
   ]
  },
  {
   "cell_type": "code",
   "execution_count": 15,
   "id": "Rdb-EgolaE24",
   "metadata": {
    "id": "Rdb-EgolaE24"
   },
   "outputs": [],
   "source": [
    "#copy the data\n",
    "\n",
    "data = df_data.copy()"
   ]
  },
  {
   "cell_type": "markdown",
   "id": "UX49KcqZodhc",
   "metadata": {
    "id": "UX49KcqZodhc"
   },
   "source": [
    "**Transforming into Timeseries**\n",
    "- Timeseries: data that describes something from time to time or historical period. Time series data usually consists of a sequence of dates and values ​​in the data for which they are intended."
   ]
  },
  {
   "cell_type": "code",
   "execution_count": 16,
   "id": "lG65rX72bddM",
   "metadata": {
    "id": "lG65rX72bddM"
   },
   "outputs": [],
   "source": [
    "#function transformation time series\n",
    "\n",
    "def time_series(data_value):\n",
    "  data_value[\"pemakaian_listrik\"] = pd.to_numeric(data_value[\"pemakaian_listrik\"], downcast=\"float\") #mengconvert type data object to float\n",
    "  data_value['tanggal'] = pd.to_datetime(data_value[\"tanggal\"]) #mengconvert type data object to datetime\n",
    "  return data_value\n"
   ]
  },
  {
   "cell_type": "markdown",
   "id": "sSAi-W2hom_o",
   "metadata": {
    "id": "sSAi-W2hom_o"
   },
   "source": [
    "**Reindex data**\n",
    "- reformat the date on the data to make it clear that the intervals coincide every 1 hour."
   ]
  },
  {
   "cell_type": "code",
   "execution_count": 17,
   "id": "fA-1qyy2dYob",
   "metadata": {
    "id": "fA-1qyy2dYob"
   },
   "outputs": [],
   "source": [
    "#function indexing\n",
    "def reindex_date(data_value):\n",
    "  \n",
    "  data_value[\"pemakaian_listrik\"] = pd.to_numeric(data_value[\"pemakaian_listrik\"], downcast=\"float\") #convert type data object to float\n",
    "  data_value['tanggal'] = pd.to_datetime(data_value[\"tanggal\"]) ##convert type data object to datetime\n",
    "\n",
    "  data_value = data_value[['tanggal','pemakaian_listrik']] #just take 2 column.\n",
    "  data_value = data_value.set_index('tanggal') #make index which was originally an integer to be a date time.\n",
    "\n",
    "  #reformattted date\n",
    "  \n",
    "  lenght_data = len(data_value)\n",
    "  tanggal_awal = data_value.index[0]\n",
    "  data_value.index = pd.date_range(tanggal_awal, periods=lenght_data, freq='H')\n",
    "\n",
    "  return data_value"
   ]
  },
  {
   "cell_type": "code",
   "execution_count": 18,
   "id": "acfe787b",
   "metadata": {
    "id": "acfe787b"
   },
   "outputs": [],
   "source": [
    "pd.options.mode.chained_assignment = None  # default='warn'\n",
    "\n",
    "#call function time series\n",
    "\n",
    "data = time_series(data)\n",
    "\n",
    "#call function reindex_date\n",
    "\n",
    "data = reindex_date(data)"
   ]
  },
  {
   "cell_type": "code",
   "execution_count": 19,
   "id": "n0aYrgww9LGu",
   "metadata": {
    "colab": {
     "base_uri": "https://localhost:8080/",
     "height": 206
    },
    "id": "n0aYrgww9LGu",
    "outputId": "6e27af58-1be3-46ca-93f1-e4fcda0194fd"
   },
   "outputs": [
    {
     "data": {
      "text/html": [
       "<div>\n",
       "<style scoped>\n",
       "    .dataframe tbody tr th:only-of-type {\n",
       "        vertical-align: middle;\n",
       "    }\n",
       "\n",
       "    .dataframe tbody tr th {\n",
       "        vertical-align: top;\n",
       "    }\n",
       "\n",
       "    .dataframe thead th {\n",
       "        text-align: right;\n",
       "    }\n",
       "</style>\n",
       "<table border=\"1\" class=\"dataframe\">\n",
       "  <thead>\n",
       "    <tr style=\"text-align: right;\">\n",
       "      <th></th>\n",
       "      <th>pemakaian_listrik</th>\n",
       "    </tr>\n",
       "  </thead>\n",
       "  <tbody>\n",
       "    <tr>\n",
       "      <th>2022-01-29 20:02:34</th>\n",
       "      <td>NaN</td>\n",
       "    </tr>\n",
       "    <tr>\n",
       "      <th>2022-01-29 21:02:34</th>\n",
       "      <td>0.67</td>\n",
       "    </tr>\n",
       "    <tr>\n",
       "      <th>2022-01-29 22:02:34</th>\n",
       "      <td>0.48</td>\n",
       "    </tr>\n",
       "    <tr>\n",
       "      <th>2022-01-29 23:02:34</th>\n",
       "      <td>0.47</td>\n",
       "    </tr>\n",
       "    <tr>\n",
       "      <th>2022-01-30 00:02:34</th>\n",
       "      <td>0.46</td>\n",
       "    </tr>\n",
       "  </tbody>\n",
       "</table>\n",
       "</div>"
      ],
      "text/plain": [
       "                     pemakaian_listrik\n",
       "2022-01-29 20:02:34                NaN\n",
       "2022-01-29 21:02:34               0.67\n",
       "2022-01-29 22:02:34               0.48\n",
       "2022-01-29 23:02:34               0.47\n",
       "2022-01-30 00:02:34               0.46"
      ]
     },
     "execution_count": 19,
     "metadata": {},
     "output_type": "execute_result"
    }
   ],
   "source": [
    "#Show data by start\n",
    "\n",
    "data.head(5)"
   ]
  },
  {
   "cell_type": "markdown",
   "id": "gUwJiorHHgUh",
   "metadata": {
    "id": "gUwJiorHHgUh"
   },
   "source": [
    "**Clearing the Data**\n",
    "- Missing data will be filled with the average value of the entire data.\n",
    "- Cleaning data is used to minimize noise, eg data outlier."
   ]
  },
  {
   "cell_type": "code",
   "execution_count": 20,
   "id": "yxWnc_kaZuxw",
   "metadata": {
    "id": "yxWnc_kaZuxw"
   },
   "outputs": [],
   "source": [
    "#fill data outlier with mean\n",
    "\n",
    "data.loc[(data['pemakaian_listrik'] < lower_bound) | (data['pemakaian_listrik'] > upper_bound)] = np.nan"
   ]
  },
  {
   "cell_type": "code",
   "execution_count": 21,
   "id": "4c290a74",
   "metadata": {
    "id": "4c290a74"
   },
   "outputs": [],
   "source": [
    "#make function missing value for the data\n",
    "\n",
    "def cleaning_missingValue(data_value):\n",
    "    try:\n",
    "      if data_value['pemakaian_listrik'].isna().sum() > 0 or (data_value['pemakaian_listrik'] == 0).sum() > 0:\n",
    "        print(\"\")\n",
    "        print(\"There is data that is empty, fill in the data with the average !\")\n",
    "        print(\"\")\n",
    "        time.sleep(1)\n",
    "      \n",
    "        #fill missing value and data zero with mean value in all data\n",
    "        data_value['pemakaian_listrik'] = data_value['pemakaian_listrik'].fillna(data_value['pemakaian_listrik'].mean())\n",
    "        data_value['pemakaian_listrik'] = data_value['pemakaian_listrik'].mask(data_value['pemakaian_listrik']==0).fillna(data_value['pemakaian_listrik'].mean())\n",
    "\n",
    "        print(\"NULL data added successfully !\")\n",
    "      else:\n",
    "        print(\"\")\n",
    "        print(\"Congratulations, no data is empty !\")\n",
    "      return round(data_value, 2)\n",
    "    except:\n",
    "      print('Data error occurred !!')"
   ]
  },
  {
   "cell_type": "code",
   "execution_count": 22,
   "id": "EFdKD3NZZWwj",
   "metadata": {
    "colab": {
     "base_uri": "https://localhost:8080/"
    },
    "id": "EFdKD3NZZWwj",
    "outputId": "8be9474e-58ff-437c-82fc-6d88d701a271"
   },
   "outputs": [
    {
     "name": "stdout",
     "output_type": "stream",
     "text": [
      "\n",
      "There is data that is empty, fill in the data with the average !\n",
      "\n",
      "NULL data added successfully !\n"
     ]
    }
   ],
   "source": [
    "#call fuction missing value\n",
    "\n",
    "data = cleaning_missingValue(data)"
   ]
  },
  {
   "cell_type": "code",
   "execution_count": 23,
   "id": "rPUk0MU4zpDh",
   "metadata": {
    "colab": {
     "base_uri": "https://localhost:8080/",
     "height": 206
    },
    "id": "rPUk0MU4zpDh",
    "outputId": "41f545cf-f32c-4a08-f6e7-a43858ac9dc6"
   },
   "outputs": [
    {
     "data": {
      "text/html": [
       "<div>\n",
       "<style scoped>\n",
       "    .dataframe tbody tr th:only-of-type {\n",
       "        vertical-align: middle;\n",
       "    }\n",
       "\n",
       "    .dataframe tbody tr th {\n",
       "        vertical-align: top;\n",
       "    }\n",
       "\n",
       "    .dataframe thead th {\n",
       "        text-align: right;\n",
       "    }\n",
       "</style>\n",
       "<table border=\"1\" class=\"dataframe\">\n",
       "  <thead>\n",
       "    <tr style=\"text-align: right;\">\n",
       "      <th></th>\n",
       "      <th>pemakaian_listrik</th>\n",
       "    </tr>\n",
       "  </thead>\n",
       "  <tbody>\n",
       "    <tr>\n",
       "      <th>2022-01-29 20:02:34</th>\n",
       "      <td>0.41</td>\n",
       "    </tr>\n",
       "    <tr>\n",
       "      <th>2022-01-29 21:02:34</th>\n",
       "      <td>0.67</td>\n",
       "    </tr>\n",
       "    <tr>\n",
       "      <th>2022-01-29 22:02:34</th>\n",
       "      <td>0.48</td>\n",
       "    </tr>\n",
       "    <tr>\n",
       "      <th>2022-01-29 23:02:34</th>\n",
       "      <td>0.47</td>\n",
       "    </tr>\n",
       "    <tr>\n",
       "      <th>2022-01-30 00:02:34</th>\n",
       "      <td>0.46</td>\n",
       "    </tr>\n",
       "  </tbody>\n",
       "</table>\n",
       "</div>"
      ],
      "text/plain": [
       "                     pemakaian_listrik\n",
       "2022-01-29 20:02:34               0.41\n",
       "2022-01-29 21:02:34               0.67\n",
       "2022-01-29 22:02:34               0.48\n",
       "2022-01-29 23:02:34               0.47\n",
       "2022-01-30 00:02:34               0.46"
      ]
     },
     "execution_count": 23,
     "metadata": {},
     "output_type": "execute_result"
    }
   ],
   "source": [
    "data.head(5)"
   ]
  },
  {
   "cell_type": "markdown",
   "id": "ipdRt7NHv5Gf",
   "metadata": {
    "id": "ipdRt7NHv5Gf"
   },
   "source": [
    "## **2. Long Short-Term Memory**\n",
    "\n",
    "**- Why Choose LSTM?**\n",
    "\n",
    "1. From the amount of data. The data used is more than 500. Assume that the data is always growing continuously and the data will become very large. LSTM is very suitable for such a lot of data.\n",
    "\n",
    "2. LSTM can handle sequential data such as time series and NLP.\n",
    "\n",
    "3. LSTM can handle non-linear data types or there are outliers.\n",
    "\n",
    "4. There is no need to assume the data is stationary or not. LSTM can handle both.\n",
    "\n",
    "5. LSTM has a good performance in predicting electrical energy data such as this data."
   ]
  },
  {
   "cell_type": "markdown",
   "id": "uBzRA37InmYe",
   "metadata": {
    "id": "uBzRA37InmYe"
   },
   "source": [
    "**Splitting Data**\n",
    "- Data Train: data will taken for training model LSTM\n",
    "- Test data:  data will be taken for model evaluation"
   ]
  },
  {
   "cell_type": "code",
   "execution_count": 24,
   "id": "mWpviVoKYGTL",
   "metadata": {
    "id": "mWpviVoKYGTL"
   },
   "outputs": [],
   "source": [
    "uji_name        = \"pengujian_epoch\"\n",
    "uji_ke          = \"uji-ke-3\"\n",
    "validasi_uji_ke = \"validasi-ke-3\""
   ]
  },
  {
   "cell_type": "code",
   "execution_count": 25,
   "id": "nC_eqtD1mCth",
   "metadata": {
    "colab": {
     "base_uri": "https://localhost:8080/"
    },
    "id": "nC_eqtD1mCth",
    "outputId": "711267ee-5085-4144-f186-377938bf0c0b"
   },
   "outputs": [
    {
     "name": "stdout",
     "output_type": "stream",
     "text": [
      "jumlah data testing dan train : (104, 418)\n"
     ]
    }
   ],
   "source": [
    "#Calculate data train and testing by percent\n",
    "\n",
    "data_all = len(data)\n",
    "\n",
    "#Estimate Data by %\n",
    "\n",
    "persen_data_test = 20\n",
    "persen_data_train = 80\n",
    "\n",
    "jumlah_data_test  = int((persen_data_test/100) * data_all)\n",
    "jumlah_data_train = data_all - jumlah_data_test\n",
    "\n",
    "print(\"jumlah data testing dan train :\", (jumlah_data_test, jumlah_data_train))"
   ]
  },
  {
   "cell_type": "code",
   "execution_count": 26,
   "id": "OlcmcBvEnpoT",
   "metadata": {
    "colab": {
     "base_uri": "https://localhost:8080/"
    },
    "id": "OlcmcBvEnpoT",
    "outputId": "c16e274a-87fc-4b7a-aa23-db3314c50f84"
   },
   "outputs": [
    {
     "name": "stdout",
     "output_type": "stream",
     "text": [
      "shape data training: (418, 1)\n",
      "shape data testing: (104, 1)\n"
     ]
    }
   ],
   "source": [
    "#spliting data training and testing\n",
    "\n",
    "train = data[:-104]\n",
    "test = data[-104:]\n",
    "\n",
    "print(\"shape data training: \" + str(train.shape))\n",
    "print(\"shape data testing: \" + str(test.shape))"
   ]
  },
  {
   "cell_type": "code",
   "execution_count": 27,
   "id": "PqixIAzkn11-",
   "metadata": {
    "colab": {
     "base_uri": "https://localhost:8080/",
     "height": 291
    },
    "id": "PqixIAzkn11-",
    "outputId": "db125015-d8d8-4d51-a1a4-b2297b5d5456"
   },
   "outputs": [
    {
     "data": {
      "image/png": "[encoded data removed]",
      "text/plain": [
       "<Figure size 720x288 with 1 Axes>"
      ]
     },
     "metadata": {
      "needs_background": "light"
     },
     "output_type": "display_data"
    }
   ],
   "source": [
    "#plot data training dan data testing\n",
    "\n",
    "train['pemakaian_listrik'].plot(figsize=(10,4),legend=True)\n",
    "test['pemakaian_listrik'].plot(figsize=(10,4),legend=True, color=\"orange\")\n",
    "\n",
    "plt.legend(['training data ', 'testing data'])\n",
    "plt.title('Usage kWh meter')\n",
    "plt.show()"
   ]
  },
  {
   "cell_type": "markdown",
   "id": "UZk13O7Mnwgs",
   "metadata": {
    "id": "UZk13O7Mnwgs"
   },
   "source": [
    "**Converting Data Into Sequence**\n",
    "- where x1, x2, x3 is input for Deep Neural Network in LSTM\n",
    "- where y1, y2, y3 is output (prediction) for Deep Neural Network in LSTM"
   ]
  },
  {
   "cell_type": "markdown",
   "id": "coejk86ZoKp-",
   "metadata": {
    "id": "coejk86ZoKp-"
   },
   "source": [
    "![image.png](data:image/png;base64,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)"
   ]
  },
  {
   "cell_type": "code",
   "execution_count": 28,
   "id": "1UApUNTHoPb5",
   "metadata": {
    "id": "1UApUNTHoPb5"
   },
   "outputs": [],
   "source": [
    "#transform into a sequence function.\n",
    "\n",
    "def sequence_data_transformasi(data, window_size):\n",
    "\n",
    "  df_as_np = data.to_numpy()\n",
    "  X = []\n",
    "  y = []\n",
    "\n",
    "  for i in range(len(df_as_np)-window_size):\n",
    "    row = [[a] for a in df_as_np[i:i+window_size]]\n",
    "    X.append(row)\n",
    "    label = df_as_np[i+window_size]\n",
    "    y.append(label)\n",
    "  return np.array(X), np.array(y)"
   ]
  },
  {
   "cell_type": "code",
   "execution_count": 29,
   "id": "U-VFVuO3oQJy",
   "metadata": {
    "colab": {
     "base_uri": "https://localhost:8080/"
    },
    "id": "U-VFVuO3oQJy",
    "outputId": "ec9593f6-3eae-4311-e3cf-f4e77c23c796"
   },
   "outputs": [
    {
     "name": "stdout",
     "output_type": "stream",
     "text": [
      "(411, 7, 1) (411,)\n",
      "(97, 7, 1) (97,)\n"
     ]
    }
   ],
   "source": [
    "#Change to data sequence\n",
    "\n",
    "WINDOW_SIZE = 7\n",
    "\n",
    "#for train data\n",
    "input_train, output_train = sequence_data_transformasi(round(train['pemakaian_listrik'], 2), WINDOW_SIZE)\n",
    "\n",
    "#for test data\n",
    "input_test, output_test = sequence_data_transformasi(round(test['pemakaian_listrik'], 2), WINDOW_SIZE)\n",
    "\n",
    "print(input_train.shape, output_train.shape)\n",
    "print(input_test.shape, output_test.shape)\n"
   ]
  },
  {
   "cell_type": "markdown",
   "id": "QAOkhf4V3Js8",
   "metadata": {
    "id": "QAOkhf4V3Js8"
   },
   "source": [
    "**Estimated Parameter Input**"
   ]
  },
  {
   "cell_type": "code",
   "execution_count": 30,
   "id": "naGOJ8DDQ8we",
   "metadata": {
    "id": "naGOJ8DDQ8we"
   },
   "outputs": [],
   "source": [
    "n_input = WINDOW_SIZE\n",
    "n_output_label = 1"
   ]
  },
  {
   "cell_type": "markdown",
   "id": "H2C5TUuD3Y-R",
   "metadata": {
    "id": "H2C5TUuD3Y-R"
   },
   "source": [
    "**Estimated Parameter Dense, Neuron, Epoch, Batch Size, Learning Rate**\n",
    "\n",
    "\n",
    "- Neuron = output dimension (dimensi keluaran) of neurons or Number of Neurons in Hidden Layer\n",
    "- Dense = Number of Hidden Layers. Dense(1) is the output units of the hidden layer. If you give the dense function below that, then there are 2 hidden layers\n",
    "- In the LSTM Layer there is 1 Hidden Layer.\n",
    "- Epoch = When all data has gone through the training process on the Neural Network until it is returned to the beginning for one round (1 Epoch). because 1 epoch is too large to be entered into a computer, therefore we need to divide it into small units called batches. (karena pada 1 Epoch terlalu besar untuk dimasukkan kedalam komputer maka dari itu kita perlu membaginya kedalam satuan kecil yang disebut batches.)\n",
    "\n",
    "- Batch Size = Batch Size is the number of sample data distributed to the Neural Network. eg data 50, and batch size = 5. then the order of data to be entered into the neural network is [1,2,3,4,5], continue [6,7,8,9,10]"
   ]
  },
  {
   "cell_type": "markdown",
   "id": "o1wzYEumDpJ8",
   "metadata": {
    "id": "o1wzYEumDpJ8"
   },
   "source": [
    "**Selecting Metric Loss**\n",
    "\n",
    "1. Is the data a case of classification or regression?\n",
    "2. What metrics are appropriate for this case?\n",
    "\n",
    "In the Regression Case, the Error Metric which is suitable for Knowing the Performance of the Training and Evaluation Model will be used.\n",
    "\n",
    "1. Mean Square Error (MSE)\n",
    "\n",
    "\n",
    "\n",
    "```\n",
    "      MSE = 1/n (ytrue - ypred)^2\n",
    "```"
   ]
  },
  {
   "cell_type": "code",
   "execution_count": 34,
   "id": "39e796ed",
   "metadata": {
    "colab": {
     "base_uri": "https://localhost:8080/"
    },
    "id": "39e796ed",
    "outputId": "c8499831-a97c-4dcd-898b-6d0986a06c6b"
   },
   "outputs": [
    {
     "name": "stdout",
     "output_type": "stream",
     "text": [
      "Model: \"sequential_3\"\n",
      "_________________________________________________________________\n",
      "Layer (type)                 Output Shape              Param #   \n",
      "=================================================================\n",
      "lstm_3 (LSTM)                (None, 8)                 320       \n",
      "_________________________________________________________________\n",
      "dense_3 (Dense)              (None, 1)                 9         \n",
      "=================================================================\n",
      "Total params: 329\n",
      "Trainable params: 329\n",
      "Non-trainable params: 0\n",
      "_________________________________________________________________\n",
      "None\n",
      "Epoch 1/50\n",
      "411/411 [==============================] - 2s 3ms/step - loss: 0.0230 - val_loss: 0.0119\n",
      "Epoch 2/50\n",
      "411/411 [==============================] - 1s 2ms/step - loss: 0.0114 - val_loss: 0.0133\n",
      "Epoch 3/50\n",
      "411/411 [==============================] - 1s 2ms/step - loss: 0.0106 - val_loss: 0.0096\n",
      "Epoch 4/50\n",
      "411/411 [==============================] - 1s 2ms/step - loss: 0.0098 - val_loss: 0.0090\n",
      "Epoch 5/50\n",
      "411/411 [==============================] - 1s 2ms/step - loss: 0.0090 - val_loss: 0.0086\n",
      "Epoch 6/50\n",
      "411/411 [==============================] - 1s 2ms/step - loss: 0.0089 - val_loss: 0.0096\n",
      "Epoch 7/50\n",
      "411/411 [==============================] - 1s 2ms/step - loss: 0.0087 - val_loss: 0.0087\n",
      "Epoch 8/50\n",
      "411/411 [==============================] - 1s 2ms/step - loss: 0.0089 - val_loss: 0.0084\n",
      "Epoch 9/50\n",
      "411/411 [==============================] - 1s 2ms/step - loss: 0.0086 - val_loss: 0.0090\n",
      "Epoch 10/50\n",
      "411/411 [==============================] - 1s 2ms/step - loss: 0.0086 - val_loss: 0.0081\n",
      "Epoch 11/50\n",
      "411/411 [==============================] - 1s 2ms/step - loss: 0.0085 - val_loss: 0.0081\n",
      "Epoch 12/50\n",
      "411/411 [==============================] - 1s 2ms/step - loss: 0.0085 - val_loss: 0.0083\n",
      "Epoch 13/50\n",
      "411/411 [==============================] - 1s 3ms/step - loss: 0.0086 - val_loss: 0.0081\n",
      "Epoch 14/50\n",
      "411/411 [==============================] - 1s 3ms/step - loss: 0.0086 - val_loss: 0.0087\n",
      "Epoch 15/50\n",
      "411/411 [==============================] - 1s 2ms/step - loss: 0.0084 - val_loss: 0.0080\n",
      "Epoch 16/50\n",
      "411/411 [==============================] - 1s 2ms/step - loss: 0.0085 - val_loss: 0.0080\n",
      "Epoch 17/50\n",
      "411/411 [==============================] - 1s 2ms/step - loss: 0.0084 - val_loss: 0.0079\n",
      "Epoch 18/50\n",
      "411/411 [==============================] - 1s 2ms/step - loss: 0.0085 - val_loss: 0.0081\n",
      "Epoch 19/50\n",
      "411/411 [==============================] - 1s 2ms/step - loss: 0.0084 - val_loss: 0.0079\n",
      "Epoch 20/50\n",
      "411/411 [==============================] - 1s 2ms/step - loss: 0.0086 - val_loss: 0.0078\n",
      "Epoch 21/50\n",
      "411/411 [==============================] - 1s 2ms/step - loss: 0.0085 - val_loss: 0.0079\n",
      "Epoch 22/50\n",
      "411/411 [==============================] - 1s 2ms/step - loss: 0.0084 - val_loss: 0.0078\n",
      "Epoch 23/50\n",
      "411/411 [==============================] - 1s 2ms/step - loss: 0.0083 - val_loss: 0.0090\n",
      "Epoch 24/50\n",
      "411/411 [==============================] - 1s 2ms/step - loss: 0.0078 - val_loss: 0.0079\n",
      "Epoch 25/50\n",
      "411/411 [==============================] - 1s 2ms/step - loss: 0.0083 - val_loss: 0.0080\n",
      "Epoch 26/50\n",
      "411/411 [==============================] - 1s 2ms/step - loss: 0.0081 - val_loss: 0.0090\n",
      "Epoch 27/50\n",
      "411/411 [==============================] - 1s 2ms/step - loss: 0.0082 - val_loss: 0.0087\n",
      "Epoch 28/50\n",
      "411/411 [==============================] - 1s 2ms/step - loss: 0.0085 - val_loss: 0.0087\n",
      "Epoch 29/50\n",
      "411/411 [==============================] - 1s 3ms/step - loss: 0.0082 - val_loss: 0.0076\n",
      "Epoch 30/50\n",
      "411/411 [==============================] - 1s 2ms/step - loss: 0.0080 - val_loss: 0.0077\n",
      "Epoch 31/50\n",
      "411/411 [==============================] - 1s 2ms/step - loss: 0.0083 - val_loss: 0.0077\n",
      "Epoch 32/50\n",
      "411/411 [==============================] - 1s 2ms/step - loss: 0.0081 - val_loss: 0.0089\n",
      "Epoch 33/50\n",
      "411/411 [==============================] - 1s 2ms/step - loss: 0.0083 - val_loss: 0.0081\n",
      "Epoch 34/50\n",
      "411/411 [==============================] - 1s 2ms/step - loss: 0.0080 - val_loss: 0.0079\n",
      "Epoch 35/50\n",
      "411/411 [==============================] - 1s 2ms/step - loss: 0.0080 - val_loss: 0.0084\n",
      "Epoch 36/50\n",
      "411/411 [==============================] - 1s 2ms/step - loss: 0.0081 - val_loss: 0.0079\n",
      "Epoch 37/50\n",
      "411/411 [==============================] - 1s 2ms/step - loss: 0.0079 - val_loss: 0.0078\n",
      "Epoch 38/50\n",
      "411/411 [==============================] - 1s 2ms/step - loss: 0.0080 - val_loss: 0.0077\n",
      "Epoch 39/50\n",
      "411/411 [==============================] - 1s 2ms/step - loss: 0.0080 - val_loss: 0.0084\n",
      "Epoch 40/50\n",
      "411/411 [==============================] - 1s 2ms/step - loss: 0.0082 - val_loss: 0.0077\n",
      "Epoch 41/50\n",
      "411/411 [==============================] - 1s 2ms/step - loss: 0.0083 - val_loss: 0.0094\n",
      "Epoch 42/50\n",
      "411/411 [==============================] - 1s 2ms/step - loss: 0.0079 - val_loss: 0.0077\n",
      "Epoch 43/50\n",
      "411/411 [==============================] - 1s 2ms/step - loss: 0.0082 - val_loss: 0.0076\n",
      "Epoch 44/50\n",
      "411/411 [==============================] - 1s 2ms/step - loss: 0.0082 - val_loss: 0.0078\n",
      "Epoch 45/50\n",
      "411/411 [==============================] - 1s 3ms/step - loss: 0.0077 - val_loss: 0.0090\n",
      "Epoch 46/50\n",
      "411/411 [==============================] - 1s 3ms/step - loss: 0.0079 - val_loss: 0.0080\n",
      "Epoch 47/50\n",
      "411/411 [==============================] - 1s 3ms/step - loss: 0.0079 - val_loss: 0.0077\n",
      "Epoch 48/50\n",
      "411/411 [==============================] - 1s 3ms/step - loss: 0.0080 - val_loss: 0.0077\n",
      "Epoch 49/50\n",
      "411/411 [==============================] - 1s 2ms/step - loss: 0.0078 - val_loss: 0.0078\n",
      "Epoch 50/50\n",
      "411/411 [==============================] - 1s 2ms/step - loss: 0.0080 - val_loss: 0.0077\n"
     ]
    }
   ],
   "source": [
    "#Modeling data LSTM\n",
    "\n",
    "model = Sequential([\n",
    "    LSTM(8, activation='relu', input_shape=(n_input, n_output_label)),\n",
    "    Dense(1),                                      \n",
    "])\n",
    "\n",
    "#call model and training data\n",
    "#loss MSE is for the error function, the optimizer is to lower the value of the error (sgd)\n",
    "\n",
    "model.compile(loss=['mse'], optimizer=tf.keras.optimizers.Adam(\n",
    "    learning_rate=0.0010\n",
    "))\n",
    "print(model.summary())\n",
    "\n",
    "#1 epochs = 1 time for all training data from top to bottom to completion. .\n",
    "history = model.fit(input_train, output_train, validation_data=(input_test, output_test), batch_size=1, epochs=50) #fit generator to execute the model"
   ]
  },
  {
   "cell_type": "markdown",
   "id": "0YNpknrncgGU",
   "metadata": {
    "id": "0YNpknrncgGU"
   },
   "source": [
    "**Evaluation Performance Model**\n",
    "\n",
    "- Data evaluation using data test\n",
    "\n",
    "- The model is said to be not overfitting and underfitting if the error value in the test data / validation data is not much different from the error in the training data.\n",
    "\n",
    "\n",
    "Overfitting : where the prediction results on the training data are good and when tested with original data, the results are bad\n",
    "\n",
    "Underfitting : where the prediction results on the training data and testing data are very bad."
   ]
  },
  {
   "cell_type": "code",
   "execution_count": 35,
   "id": "b5010531",
   "metadata": {
    "colab": {
     "base_uri": "https://localhost:8080/"
    },
    "id": "b5010531",
    "outputId": "f72b40b3-57b4-4e51-c94d-9e149d444441"
   },
   "outputs": [
    {
     "data": {
      "image/png": "[encoded data removed]",
      "text/plain": [
       "<Figure size 432x288 with 1 Axes>"
      ]
     },
     "metadata": {
      "needs_background": "light"
     },
     "output_type": "display_data"
    }
   ],
   "source": [
    "#make ploting loss function MSE\n",
    "\n",
    "plt.plot(history.history['loss'])\n",
    "plt.plot(history.history['val_loss'], color=\"orange\")\n",
    "plt.title('model loss')\n",
    "plt.ylabel('loss')\n",
    "plt.xlabel('epoch')\n",
    "plt.legend(['train', 'test'], loc='upper left')\n",
    "plt.savefig('error-{}-{}-{}.png'.format(uji_name,uji_ke, validasi_uji_ke))\n",
    "plt.show()"
   ]
  },
  {
   "cell_type": "code",
   "execution_count": 36,
   "id": "umrzwRYST6U1",
   "metadata": {
    "colab": {
     "base_uri": "https://localhost:8080/"
    },
    "id": "umrzwRYST6U1",
    "outputId": "2294a858-fd4c-42bc-cde2-e2268810936e"
   },
   "outputs": [
    {
     "data": {
      "text/html": [
       "<div>\n",
       "<style scoped>\n",
       "    .dataframe tbody tr th:only-of-type {\n",
       "        vertical-align: middle;\n",
       "    }\n",
       "\n",
       "    .dataframe tbody tr th {\n",
       "        vertical-align: top;\n",
       "    }\n",
       "\n",
       "    .dataframe thead th {\n",
       "        text-align: right;\n",
       "    }\n",
       "</style>\n",
       "<table border=\"1\" class=\"dataframe\">\n",
       "  <thead>\n",
       "    <tr style=\"text-align: right;\">\n",
       "      <th></th>\n",
       "      <th>predict</th>\n",
       "      <th>train</th>\n",
       "    </tr>\n",
       "  </thead>\n",
       "  <tbody>\n",
       "    <tr>\n",
       "      <th>406</th>\n",
       "      <td>0.375907</td>\n",
       "      <td>0.45</td>\n",
       "    </tr>\n",
       "    <tr>\n",
       "      <th>407</th>\n",
       "      <td>0.377954</td>\n",
       "      <td>0.40</td>\n",
       "    </tr>\n",
       "    <tr>\n",
       "      <th>408</th>\n",
       "      <td>0.353656</td>\n",
       "      <td>0.43</td>\n",
       "    </tr>\n",
       "    <tr>\n",
       "      <th>409</th>\n",
       "      <td>0.373762</td>\n",
       "      <td>0.39</td>\n",
       "    </tr>\n",
       "    <tr>\n",
       "      <th>410</th>\n",
       "      <td>0.367339</td>\n",
       "      <td>0.34</td>\n",
       "    </tr>\n",
       "  </tbody>\n",
       "</table>\n",
       "</div>"
      ],
      "text/plain": [
       "      predict  train\n",
       "406  0.375907   0.45\n",
       "407  0.377954   0.40\n",
       "408  0.353656   0.43\n",
       "409  0.373762   0.39\n",
       "410  0.367339   0.34"
      ]
     },
     "execution_count": 36,
     "metadata": {},
     "output_type": "execute_result"
    }
   ],
   "source": [
    "#prediction for training data and transformed into dataframe\n",
    "\n",
    "train_prediction = model.predict(input_train).flatten()\n",
    "train_hasil= pd.DataFrame(data={'predict':train_prediction, 'train':output_train})\n",
    "train_hasil.tail(5)"
   ]
  },
  {
   "cell_type": "code",
   "execution_count": 37,
   "id": "rVyyX9xzVqpi",
   "metadata": {
    "colab": {
     "base_uri": "https://localhost:8080/"
    },
    "id": "rVyyX9xzVqpi",
    "outputId": "f3860d6b-54c2-4a0e-a6cb-1e892adad0ae"
   },
   "outputs": [
    {
     "name": "stdout",
     "output_type": "stream",
     "text": [
      "Error MSE Data Training is:\n",
      "411/411 [==============================] - 0s 1ms/step - loss: 0.0079\n",
      "0.007866275496780872\n",
      "\n"
     ]
    },
    {
     "data": {
      "image/png": "[encoded data removed]",
      "text/plain": [
       "<Figure size 720x288 with 1 Axes>"
      ]
     },
     "metadata": {
      "needs_background": "light"
     },
     "output_type": "display_data"
    }
   ],
   "source": [
    "#Show the predicted results of train data in the form of a visualization graph\n",
    "#model.evaluate to show final error by data. model.evalute error with MSE is same sklearn MSE \n",
    "\n",
    "print(\"Error MSE Data Training is:\")\n",
    "print(model.evaluate(input_train, output_train, batch_size=1,))\n",
    "print(\"\")\n",
    "\n",
    "plt.figure(figsize=(10, 4))\n",
    "plt.plot(train_hasil['train'],label='train', color='blue')\n",
    "plt.plot(train_hasil['predict'], label='predict', color='red')\n",
    "plt.ylabel(\"kWh pemakaian\")\n",
    "plt.xticks()\n",
    "plt.yticks()\n",
    "plt.savefig('grafik_prediksi_train-{}-{}-{}.png'.format(uji_name,uji_ke, validasi_uji_ke))\n",
    "plt.show()\n"
   ]
  },
  {
   "cell_type": "code",
   "execution_count": 38,
   "id": "mn_wZk7qWAQB",
   "metadata": {
    "colab": {
     "base_uri": "https://localhost:8080/",
     "height": 270
    },
    "id": "mn_wZk7qWAQB",
    "outputId": "8225f4d2-bb00-43de-be1a-2ebb7d0ad570"
   },
   "outputs": [
    {
     "data": {
      "text/html": [
       "<div>\n",
       "<style scoped>\n",
       "    .dataframe tbody tr th:only-of-type {\n",
       "        vertical-align: middle;\n",
       "    }\n",
       "\n",
       "    .dataframe tbody tr th {\n",
       "        vertical-align: top;\n",
       "    }\n",
       "\n",
       "    .dataframe thead th {\n",
       "        text-align: right;\n",
       "    }\n",
       "</style>\n",
       "<table border=\"1\" class=\"dataframe\">\n",
       "  <thead>\n",
       "    <tr style=\"text-align: right;\">\n",
       "      <th></th>\n",
       "      <th>predict</th>\n",
       "      <th>actual</th>\n",
       "    </tr>\n",
       "  </thead>\n",
       "  <tbody>\n",
       "    <tr>\n",
       "      <th>0</th>\n",
       "      <td>0.450838</td>\n",
       "      <td>0.48</td>\n",
       "    </tr>\n",
       "    <tr>\n",
       "      <th>1</th>\n",
       "      <td>0.466220</td>\n",
       "      <td>0.43</td>\n",
       "    </tr>\n",
       "    <tr>\n",
       "      <th>2</th>\n",
       "      <td>0.451907</td>\n",
       "      <td>0.46</td>\n",
       "    </tr>\n",
       "    <tr>\n",
       "      <th>3</th>\n",
       "      <td>0.457423</td>\n",
       "      <td>0.46</td>\n",
       "    </tr>\n",
       "    <tr>\n",
       "      <th>4</th>\n",
       "      <td>0.448940</td>\n",
       "      <td>0.53</td>\n",
       "    </tr>\n",
       "  </tbody>\n",
       "</table>\n",
       "</div>"
      ],
      "text/plain": [
       "    predict  actual\n",
       "0  0.450838    0.48\n",
       "1  0.466220    0.43\n",
       "2  0.451907    0.46\n",
       "3  0.457423    0.46\n",
       "4  0.448940    0.53"
      ]
     },
     "execution_count": 38,
     "metadata": {},
     "output_type": "execute_result"
    }
   ],
   "source": [
    "#prediction for testing data and transformed into dataframe\n",
    "\n",
    "test_prediction = model.predict(input_test).flatten()\n",
    "test_hasil = pd.DataFrame(data={'predict':test_prediction, 'actual':output_test})\n",
    "test_hasil.head(5)"
   ]
  },
  {
   "cell_type": "code",
   "execution_count": 39,
   "id": "Vode7ZNJWMlc",
   "metadata": {
    "colab": {
     "base_uri": "https://localhost:8080/"
    },
    "id": "Vode7ZNJWMlc",
    "outputId": "fce751bc-afca-436a-ccec-98e1295a0237"
   },
   "outputs": [
    {
     "name": "stdout",
     "output_type": "stream",
     "text": [
      "Error MSE Data Testing is : 0.00768345\n",
      "\n"
     ]
    },
    {
     "data": {
      "image/png": "[encoded data removed]",
      "text/plain": [
       "<Figure size 720x288 with 1 Axes>"
      ]
     },
     "metadata": {
      "needs_background": "light"
     },
     "output_type": "display_data"
    }
   ],
   "source": [
    "#Show the predicted results of train data in the form of a visualization graph\n",
    "\n",
    "print('Error MSE Data Testing is :', mse(test_hasil['actual'], test_hasil['predict']))\n",
    "print(\"\")\n",
    "\n",
    "plt.figure(figsize=(10, 4))\n",
    "plt.plot(test_hasil['predict'], label='predict', color='red')\n",
    "plt.plot(test_hasil['actual'],label='actual', color='blue')\n",
    "plt.ylabel(\"kWh pemakaian\")\n",
    "plt.xticks()\n",
    "plt.yticks()\n",
    "plt.legend()\n",
    "plt.savefig('grafik_prediksi_test-{}-{}-{}.png'.format(uji_name,uji_ke, validasi_uji_ke))\n",
    "plt.show()"
   ]
  },
  {
   "cell_type": "code",
   "execution_count": 40,
   "id": "iMb3DpM-Nt-1",
   "metadata": {
    "colab": {
     "base_uri": "https://localhost:8080/"
    },
    "id": "iMb3DpM-Nt-1",
    "outputId": "54e5e768-6ffe-4432-c148-417eb71bec59"
   },
   "outputs": [
    {
     "name": "stdout",
     "output_type": "stream",
     "text": [
      "97/97 [==============================] - 0s 1ms/step - loss: 0.0077\n"
     ]
    },
    {
     "data": {
      "text/plain": [
       "0.00768344895914197"
      ]
     },
     "execution_count": 40,
     "metadata": {},
     "output_type": "execute_result"
    }
   ],
   "source": [
    "#or using function model.evaluate is simple. the result is same in the top\n",
    "\n",
    "model.evaluate(input_test, output_test, batch_size=1)"
   ]
  },
  {
   "cell_type": "markdown",
   "id": "2KpBI7S2Gq-d",
   "metadata": {
    "id": "2KpBI7S2Gq-d"
   },
   "source": [
    "**Model Save**\n",
    "- save model to deployment"
   ]
  },
  {
   "cell_type": "code",
   "execution_count": 41,
   "id": "HFj6ULEAGpjD",
   "metadata": {
    "id": "HFj6ULEAGpjD"
   },
   "outputs": [],
   "source": [
    "model.save('model_{}-{}-{}-MSE-{}.h5'.format(uji_name,uji_ke, validasi_uji_ke, mse(test_hasil['actual'], test_hasil['predict'])))"
   ]
  },
  {
   "cell_type": "code",
   "execution_count": null,
   "id": "9e6c8344",
   "metadata": {},
   "outputs": [],
   "source": []
  }
 ],
 "metadata": {
  "accelerator": "GPU",
  "colab": {
   "collapsed_sections": [
    "ZIUj5_AiT3OS"
   ],
   "name": "LSTM_actual_data_fix.ipynb",
   "provenance": []
  },
  "kernelspec": {
   "display_name": "Python 3 (ipykernel)",
   "language": "python",
   "name": "python3"
  },
  "language_info": {
   "codemirror_mode": {
    "name": "ipython",
    "version": 3
   },
   "file_extension": ".py",
   "mimetype": "text/x-python",
   "name": "python",
   "nbconvert_exporter": "python",
   "pygments_lexer": "ipython3",
   "version": "3.8.11"
  }
 },
 "nbformat": 4,
 "nbformat_minor": 5
}
